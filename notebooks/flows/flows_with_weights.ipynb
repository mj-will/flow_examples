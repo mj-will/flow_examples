{
 "cells": [
  {
   "attachments": {},
   "cell_type": "markdown",
   "metadata": {},
   "source": [
    "# Training normalising flows with weights\n",
    "\n",
    "See Appendix A of [Williams et al. 2023](https://arxiv.org/abs/2302.08526) for details\n",
    "\n",
    "Michael J. Williams"
   ]
  },
  {
   "cell_type": "code",
   "execution_count": null,
   "metadata": {},
   "outputs": [],
   "source": [
    "import copy\n",
    "\n",
    "from glasflow.flows import RealNVP\n",
    "import matplotlib.pyplot as plt\n",
    "import numpy as np\n",
    "from scipy import stats\n",
    "from sklearn.model_selection import train_test_split\n",
    "import torch"
   ]
  },
  {
   "cell_type": "markdown",
   "metadata": {},
   "source": [
    "If `CLIP` is true, samples with weights smaller than the smallest positive float that can be represented by the current torch floating point precision will be removed from the training set. Else, all samples will be used."
   ]
  },
  {
   "cell_type": "code",
   "execution_count": null,
   "metadata": {},
   "outputs": [],
   "source": [
    "CLIP = False"
   ]
  },
  {
   "attachments": {},
   "cell_type": "markdown",
   "metadata": {},
   "source": [
    "## Training data"
   ]
  },
  {
   "cell_type": "code",
   "execution_count": null,
   "metadata": {},
   "outputs": [],
   "source": [
    "dims = 2\n",
    "training_dist = stats.multivariate_normal(mean=np.zeros(dims), cov=25 * np.eye(dims))\n",
    "target_dist = stats.multivariate_normal(mean=2.0 * np.ones(dims), cov=2 *np.eye(dims))"
   ]
  },
  {
   "cell_type": "code",
   "execution_count": null,
   "metadata": {},
   "outputs": [],
   "source": [
    "n_train = 10_000\n",
    "samples = training_dist.rvs(size=n_train)\n",
    "\n",
    "weights = (target_dist.pdf(samples) / training_dist.pdf(samples))"
   ]
  },
  {
   "cell_type": "code",
   "execution_count": null,
   "metadata": {},
   "outputs": [],
   "source": [
    "plt.scatter(samples[:, 0], samples[:, 1], c=weights, s=1.0)\n",
    "plt.colorbar(label=\"Weight\")\n",
    "plt.show()"
   ]
  },
  {
   "cell_type": "code",
   "execution_count": null,
   "metadata": {},
   "outputs": [],
   "source": [
    "if CLIP:\n",
    "    remove = weights < torch.finfo().eps\n",
    "    samples = samples[~remove]\n",
    "    weights = weights[~remove]\n",
    "    plt.scatter(samples[:, 0], samples[:, 1], c=weights, s=1.0)\n",
    "    plt.colorbar(label=\"Weight\")\n",
    "    plt.show()"
   ]
  },
  {
   "attachments": {},
   "cell_type": "markdown",
   "metadata": {},
   "source": [
    "## Training"
   ]
  },
  {
   "cell_type": "code",
   "execution_count": null,
   "metadata": {},
   "outputs": [],
   "source": [
    "def get_dataloaders(samples, weights, batch_size=1000):\n",
    "    x_train, x_val, w_train, w_val = train_test_split(samples, weights, shuffle=False)\n",
    "    x_train_tensor = torch.from_numpy(x_train.astype(np.float32))\n",
    "    w_train_tensor = torch.from_numpy(w_train.astype(np.float32))\n",
    "    train_dataset = torch.utils.data.TensorDataset(x_train_tensor, w_train_tensor)\n",
    "    train_loader = torch.utils.data.DataLoader(\n",
    "        train_dataset, batch_size=batch_size, shuffle=False\n",
    "    )\n",
    "\n",
    "    x_val_tensor = torch.from_numpy(x_val.astype(np.float32))\n",
    "    w_val_tensor = torch.from_numpy(w_val.astype(np.float32))\n",
    "    val_dataset = torch.utils.data.TensorDataset(x_val_tensor, w_val_tensor)\n",
    "    val_loader = torch.utils.data.DataLoader(\n",
    "        val_dataset, batch_size=batch_size, shuffle=False\n",
    "    )\n",
    "    return train_loader, val_loader"
   ]
  },
  {
   "cell_type": "code",
   "execution_count": null,
   "metadata": {},
   "outputs": [],
   "source": [
    "def loss_fn(log_prob, weights):\n",
    "    return - torch.sum(log_prob * weights) / torch.sum(weights)"
   ]
  },
  {
   "cell_type": "code",
   "execution_count": null,
   "metadata": {},
   "outputs": [],
   "source": [
    "def train(flow, samples, weights, epochs=100, device=\"cpu\", **kwargs):\n",
    "\n",
    "    flow = flow.to(device)\n",
    "\n",
    "    train_loader, val_loader = get_dataloaders(samples, weights, **kwargs)\n",
    "\n",
    "    loss = dict(\n",
    "        train=[],\n",
    "        val=[],\n",
    "    )\n",
    "\n",
    "    best_val_loss = np.inf\n",
    "    best_epoch = np.nan\n",
    "    best_flow = None\n",
    "\n",
    "    optimiser = torch.optim.Adam(flow.parameters(), lr=0.001, weight_decay=1e-5)\n",
    "\n",
    "    for i in range(epochs):\n",
    "        flow.train()\n",
    "        train_loss = 0.0\n",
    "        for batch in train_loader:\n",
    "            x, w = batch\n",
    "            x = x.to(device)\n",
    "            w = w.to(device)\n",
    "            optimiser.zero_grad()\n",
    "            _loss = loss_fn(flow.log_prob(x), w)\n",
    "            _loss.backward()\n",
    "            optimiser.step()\n",
    "            train_loss += _loss.item()\n",
    "        loss[\"train\"].append(train_loss / len(train_loader))\n",
    "\n",
    "        flow.eval()\n",
    "        val_loss = 0.0\n",
    "        for batch in val_loader:\n",
    "            x, w = batch\n",
    "            x = x.to(device)\n",
    "            w = w.to(device)\n",
    "            with torch.no_grad():\n",
    "                _loss = loss_fn(flow.log_prob(x), w)\n",
    "            val_loss += _loss\n",
    "        val_loss /= len(val_loader)\n",
    "\n",
    "        if val_loss < best_val_loss:\n",
    "            best_val_loss = val_loss\n",
    "            best_epoch = i\n",
    "            best_flow = copy.deepcopy(flow)\n",
    "\n",
    "        loss[\"val\"].append(val_loss)\n",
    "        if not i % 20:\n",
    "            print(\n",
    "                f\"Epoch {i} - train: {loss['train'][-1]:.3f}, val: {loss['val'][-1]:.3f}\"\n",
    "            )\n",
    "            with torch.no_grad():\n",
    "                new_samples = flow.sample(1000).cpu().numpy()\n",
    "            plt.scatter(samples[:, 0], samples[:, 1], s=1)\n",
    "            plt.scatter(new_samples[:, 0], new_samples[:, 1], s=1)\n",
    "            plt.show()\n",
    "    print(f\"Returning best flow from epoch: {best_epoch}\")\n",
    "    return best_flow, loss"
   ]
  },
  {
   "cell_type": "code",
   "execution_count": null,
   "metadata": {},
   "outputs": [],
   "source": [
    "flow = RealNVP(\n",
    "    n_inputs=2,\n",
    "    n_transforms=4,\n",
    "    n_neurons=32,\n",
    "    batch_norm_between_transforms=False,\n",
    "    linear_transform=None,\n",
    ")"
   ]
  },
  {
   "cell_type": "code",
   "execution_count": null,
   "metadata": {},
   "outputs": [],
   "source": [
    "flow, loss = train(flow, samples, weights)"
   ]
  },
  {
   "cell_type": "code",
   "execution_count": null,
   "metadata": {},
   "outputs": [],
   "source": [
    "plt.plot(loss[\"train\"], label=\"Train\")\n",
    "plt.plot(loss[\"val\"], label=\"Val.\")\n",
    "plt.xlabel(\"Iteration\")\n",
    "plt.ylabel(\"Loss\")\n",
    "plt.show()"
   ]
  },
  {
   "attachments": {},
   "cell_type": "markdown",
   "metadata": {},
   "source": [
    "## Examining the trained flow"
   ]
  },
  {
   "cell_type": "code",
   "execution_count": null,
   "metadata": {},
   "outputs": [],
   "source": [
    "flow.eval()\n",
    "with torch.inference_mode():\n",
    "    new_samples = flow.sample(10_000)\n",
    "new_samples = new_samples.cpu().numpy()"
   ]
  },
  {
   "cell_type": "code",
   "execution_count": null,
   "metadata": {},
   "outputs": [],
   "source": [
    "plt.scatter(samples[:, 0], samples[:, 1], s=1.0, label=\"Training data\")\n",
    "plt.scatter(new_samples[:, 0], new_samples[:, 1], s=1.0, label=\"New samples\")\n",
    "plt.legend()\n",
    "plt.show()"
   ]
  },
  {
   "cell_type": "code",
   "execution_count": null,
   "metadata": {},
   "outputs": [],
   "source": []
  }
 ],
 "metadata": {
  "kernelspec": {
   "display_name": "nessai",
   "language": "python",
   "name": "python3"
  },
  "language_info": {
   "codemirror_mode": {
    "name": "ipython",
    "version": 3
   },
   "file_extension": ".py",
   "mimetype": "text/x-python",
   "name": "python",
   "nbconvert_exporter": "python",
   "pygments_lexer": "ipython3",
   "version": "3.9.13"
  }
 },
 "nbformat": 4,
 "nbformat_minor": 2
}
