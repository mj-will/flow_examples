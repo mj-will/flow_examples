{
 "cells": [
  {
   "cell_type": "markdown",
   "id": "3ea611da",
   "metadata": {},
   "source": [
    "# Normalising flows and bounded distributions\n",
    "\n",
    "Michael J. Williams 2023\n",
    "\n",
    "\n",
    "**Note:** this notebooks uses the current 'main' branch of `glasflow`."
   ]
  },
  {
   "cell_type": "code",
   "execution_count": null,
   "id": "2ccf6bc2",
   "metadata": {},
   "outputs": [],
   "source": [
    "import matplotlib.pyplot as plt\n",
    "import numpy as np\n",
    "from glasflow import CouplingNSF, RealNVP\n",
    "import corner\n",
    "from copy import deepcopy\n",
    "from scipy.stats import chi2\n",
    "\n",
    "import torch\n",
    "from torch import optim"
   ]
  },
  {
   "cell_type": "code",
   "execution_count": null,
   "id": "d180bda6",
   "metadata": {},
   "outputs": [],
   "source": [
    "corner_kwargs = dict(\n",
    "    bins=32,\n",
    "    smooth=0.9,\n",
    "    color=\"teal\",\n",
    "    quantiles=[0.16, 0.84],\n",
    "    levels=(1 - np.exp(-0.5), 1 - np.exp(-2), 1 - np.exp(-9 / 2.0)),\n",
    "    plot_density=True,\n",
    "    plot_datapoints=True,\n",
    "    fill_contours=True,\n",
    "    show_titles=True,\n",
    "    hist_kwargs=dict(density=True),\n",
    ")"
   ]
  },
  {
   "cell_type": "code",
   "execution_count": null,
   "id": "ca03fd3f",
   "metadata": {},
   "outputs": [],
   "source": [
    "def make_batch(n):\n",
    "    x = torch.cat(\n",
    "        [4 * torch.randn(n // 2, 2), torch.rand(n // 2, 2)],\n",
    "        axis=1\n",
    "    )\n",
    "    return x"
   ]
  },
  {
   "cell_type": "code",
   "execution_count": null,
   "id": "d48f0e0d",
   "metadata": {},
   "outputs": [],
   "source": [
    "kwargs = deepcopy(corner_kwargs)\n",
    "kwargs[\"color\"] = \"C1\"\n",
    "kwargs[\"hist_kwargs\"][\"color\"] = \"C1\"\n",
    "example = make_batch(10000)\n",
    "fig_data = corner.corner(example.numpy(), **kwargs)"
   ]
  },
  {
   "cell_type": "code",
   "execution_count": null,
   "id": "5caccbb3",
   "metadata": {},
   "outputs": [],
   "source": [
    "def train(flow, n_iter, batch_size=500, logit=False, uniform=False):\n",
    "    train_loss = []\n",
    "    optimizer = optim.Adam(flow.parameters())\n",
    "    for i in range(n_iter):\n",
    "        t_loss = 0\n",
    "\n",
    "        x = make_batch(batch_size)\n",
    "        if logit:\n",
    "            x[:, 2:] = torch.logit(x[:, 2:])\n",
    "        if uniform:\n",
    "            x[:, :2] = torch.sigmoid(x[:, :2])\n",
    "        optimizer.zero_grad()\n",
    "        loss = -flow.log_prob(inputs=x).mean()\n",
    "        loss.backward()\n",
    "        optimizer.step()\n",
    "        t_loss += loss.item()\n",
    "\n",
    "        train_loss.append(t_loss)\n",
    "    return flow, train_loss"
   ]
  },
  {
   "cell_type": "code",
   "execution_count": null,
   "id": "903745c1",
   "metadata": {},
   "outputs": [],
   "source": [
    "realnvp = RealNVP(4, 4, n_neurons=128)\n",
    "realnvp, loss = train(realnvp, 1000)\n",
    "plt.plot(loss)\n",
    "plt.show()"
   ]
  },
  {
   "cell_type": "code",
   "execution_count": null,
   "id": "f91adc16",
   "metadata": {},
   "outputs": [],
   "source": [
    "with torch.inference_mode():\n",
    "    samples = realnvp.sample(1000).numpy()"
   ]
  },
  {
   "cell_type": "code",
   "execution_count": null,
   "id": "0e29e585",
   "metadata": {},
   "outputs": [],
   "source": [
    "z = torch.randn(1000, 4)\n",
    "with torch.no_grad():\n",
    "    x_inv, _ = realnvp.inverse(z)\n",
    "x_inv = x_inv.numpy()"
   ]
  },
  {
   "cell_type": "code",
   "execution_count": null,
   "id": "24d4d0cd",
   "metadata": {},
   "outputs": [],
   "source": [
    "in_bounds = np.logical_and((x_inv[:, 2:] > 0).all(axis=1), (x_inv[:, 2:] < 1).all(axis=1))"
   ]
  },
  {
   "cell_type": "code",
   "execution_count": null,
   "id": "f44fda65",
   "metadata": {},
   "outputs": [],
   "source": [
    "plt.plot(x_inv[:, 2][in_bounds], x_inv[:, 3][in_bounds], '.', label=\"In bounds\")\n",
    "plt.plot(x_inv[:, 2][~in_bounds], x_inv[:, 3][~in_bounds], '.', label=\"Out of bounds\")\n",
    "plt.legend()\n",
    "plt.show()"
   ]
  },
  {
   "cell_type": "code",
   "execution_count": null,
   "id": "2de1912a",
   "metadata": {},
   "outputs": [],
   "source": [
    "plt.plot(z[:, 2][in_bounds], z[:, 3][in_bounds], '.', label=\"In bounds\")\n",
    "plt.plot(z[:, 2][~in_bounds], z[:, 3][~in_bounds], '.', label=\"Out of bounds\")\n",
    "plt.legend()\n",
    "plt.show()"
   ]
  },
  {
   "cell_type": "code",
   "execution_count": null,
   "id": "ec2e0df8",
   "metadata": {},
   "outputs": [],
   "source": [
    "r = np.sum(z.numpy() ** 2,axis=1)"
   ]
  },
  {
   "cell_type": "code",
   "execution_count": null,
   "id": "24babe7e",
   "metadata": {},
   "outputs": [],
   "source": [
    "x = np.linspace(0, 20, 1000)"
   ]
  },
  {
   "cell_type": "code",
   "execution_count": null,
   "id": "e3f4f875",
   "metadata": {},
   "outputs": [],
   "source": [
    "plt.hist(r[in_bounds], 20, density=True, histtype=\"step\", label=\"In bounds\")\n",
    "plt.hist(r[~in_bounds], 20, density=True, histtype=\"step\", label=\"Out of bounds\")\n",
    "plt.plot(x, chi2(4).pdf(x), label=\"Gaussian\")\n",
    "plt.xlabel(\"Radius\")\n",
    "plt.legend()\n",
    "plt.show()"
   ]
  },
  {
   "cell_type": "code",
   "execution_count": null,
   "id": "139364ce",
   "metadata": {},
   "outputs": [],
   "source": [
    "fig = corner.corner(x_inv, **corner_kwargs)\n"
   ]
  },
  {
   "cell_type": "code",
   "execution_count": null,
   "id": "dea577d8",
   "metadata": {},
   "outputs": [],
   "source": [
    "y = torch.linspace(0, 1, 100000)\n",
    "plt.plot(y, torch.logit(y).numpy())\n",
    "plt.title(\"Logit\")\n",
    "plt.show()"
   ]
  },
  {
   "cell_type": "markdown",
   "id": "c7ddb71f",
   "metadata": {},
   "source": [
    "## With logit"
   ]
  },
  {
   "cell_type": "code",
   "execution_count": null,
   "id": "04a0a12a",
   "metadata": {},
   "outputs": [],
   "source": [
    "example_logit = make_batch(2000)\n",
    "example_logit[:, 2:] = torch.logit(example_logit[:, 2:])\n",
    "fig = corner.corner(example_logit.numpy(), **kwargs)"
   ]
  },
  {
   "cell_type": "code",
   "execution_count": null,
   "id": "e42cc694",
   "metadata": {},
   "outputs": [],
   "source": [
    "realnvp = RealNVP(4, 4, n_neurons=128)\n",
    "realnvp, loss = train(realnvp, 1000, logit=True)\n",
    "plt.plot(loss)\n",
    "plt.show()"
   ]
  },
  {
   "cell_type": "code",
   "execution_count": null,
   "id": "6dbbf351",
   "metadata": {},
   "outputs": [],
   "source": [
    "realnvp.eval()\n",
    "with torch.no_grad():\n",
    "    samples = realnvp.sample(10_000)\n",
    "# Apply inverse\n",
    "samples[:, 2:] = torch.sigmoid(samples[:, 2:])\n",
    "samples = samples.numpy()"
   ]
  },
  {
   "cell_type": "code",
   "execution_count": null,
   "id": "ec3399b8",
   "metadata": {},
   "outputs": [],
   "source": [
    "fig = corner.corner(samples, **corner_kwargs)"
   ]
  },
  {
   "cell_type": "markdown",
   "id": "6fc2507d",
   "metadata": {},
   "source": [
    "## Neural spline"
   ]
  },
  {
   "cell_type": "code",
   "execution_count": null,
   "id": "edbf61fe",
   "metadata": {},
   "outputs": [],
   "source": [
    "nsf = CouplingNSF(4, 4, distribution=\"uniform\")\n",
    "nsf, loss = train(nsf, 1000, uniform=True)\n",
    "plt.plot(loss)\n",
    "plt.show()"
   ]
  },
  {
   "cell_type": "code",
   "execution_count": null,
   "id": "7dbb2071",
   "metadata": {},
   "outputs": [],
   "source": [
    "with torch.no_grad():\n",
    "    samples = nsf.sample(5000)\n",
    "# Inverse\n",
    "samples[:, :2] = torch.logit(samples[:, :2])\n",
    "samples = samples.numpy()"
   ]
  },
  {
   "cell_type": "code",
   "execution_count": null,
   "id": "f331fc44",
   "metadata": {},
   "outputs": [],
   "source": [
    "fig = corner.corner(example.numpy(), label=\"Truth\", **kwargs)\n",
    "fig = corner.corner(samples, fig=fig, label=\"NSF\", **corner_kwargs)"
   ]
  },
  {
   "cell_type": "code",
   "execution_count": null,
   "id": "0019f148",
   "metadata": {},
   "outputs": [],
   "source": []
  }
 ],
 "metadata": {
  "kernelspec": {
   "display_name": "Python (nessai)",
   "language": "python",
   "name": "nessai"
  },
  "language_info": {
   "codemirror_mode": {
    "name": "ipython",
    "version": 3
   },
   "file_extension": ".py",
   "mimetype": "text/x-python",
   "name": "python",
   "nbconvert_exporter": "python",
   "pygments_lexer": "ipython3",
   "version": "3.9.13"
  }
 },
 "nbformat": 4,
 "nbformat_minor": 5
}
