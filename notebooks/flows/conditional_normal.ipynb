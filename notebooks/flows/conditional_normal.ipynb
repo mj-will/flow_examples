{
 "cells": [
  {
   "attachments": {},
   "cell_type": "markdown",
   "metadata": {},
   "source": [
    "Example of training a ConditionalDiagonalNormal from nflows.\n",
    "\n",
    "Michael J. Williams 2023"
   ]
  },
  {
   "cell_type": "code",
   "execution_count": null,
   "metadata": {},
   "outputs": [],
   "source": [
    "from glasflow.nflows.distributions import ConditionalDiagonalNormal\n",
    "from glasflow.nets import MLP\n",
    "import matplotlib.pyplot as plt\n",
    "import numpy as np\n",
    "import torch\n",
    "from torch import optim"
   ]
  },
  {
   "cell_type": "code",
   "execution_count": null,
   "metadata": {},
   "outputs": [],
   "source": [
    "n = 10000\n",
    "data = torch.cat(\n",
    "    [torch.randn(n, 2) - 5, torch.randn(n, 2) + 5],\n",
    ")\n",
    "conditional = torch.cat(\n",
    "    [torch.ones(n, 1), torch.zeros(n, 1)]\n",
    ")"
   ]
  },
  {
   "cell_type": "code",
   "execution_count": null,
   "metadata": {},
   "outputs": [],
   "source": [
    "idx = np.random.choice(len(conditional), size=len(conditional), replace=False)\n",
    "data, conditional = data[idx], conditional[idx]"
   ]
  },
  {
   "cell_type": "code",
   "execution_count": null,
   "metadata": {},
   "outputs": [],
   "source": [
    "plt.scatter(data[:, 0], data[:, 1], c=conditional)\n",
    "plt.show()"
   ]
  },
  {
   "cell_type": "code",
   "execution_count": null,
   "metadata": {},
   "outputs": [],
   "source": [
    "encoder = MLP(1, 4, [64, 64])"
   ]
  },
  {
   "cell_type": "code",
   "execution_count": null,
   "metadata": {},
   "outputs": [],
   "source": [
    "dist = ConditionalDiagonalNormal((2,), context_encoder=encoder)"
   ]
  },
  {
   "cell_type": "code",
   "execution_count": null,
   "metadata": {},
   "outputs": [],
   "source": [
    "def train(dist, n_iter, data):\n",
    "    train_loss = []\n",
    "    optimizer = optim.Adam(dist.parameters())\n",
    "    for i in range(n_iter):\n",
    "        t_loss = 0\n",
    "\n",
    "        x, conditional = data\n",
    "        optimizer.zero_grad()\n",
    "        loss = -dist.log_prob(x, context=conditional).mean()\n",
    "        loss.backward()\n",
    "        optimizer.step()\n",
    "        t_loss += loss.item()\n",
    "\n",
    "        train_loss.append(t_loss)\n",
    "    return train_loss"
   ]
  },
  {
   "cell_type": "code",
   "execution_count": null,
   "metadata": {},
   "outputs": [],
   "source": [
    "loss = train(dist, 500, [data, conditional])"
   ]
  },
  {
   "cell_type": "code",
   "execution_count": null,
   "metadata": {},
   "outputs": [],
   "source": [
    "plt.plot(loss)\n",
    "plt.xlabel(\"Iteration\")\n",
    "plt.ylabel(\"Loss\")\n",
    "plt.show()"
   ]
  },
  {
   "attachments": {},
   "cell_type": "markdown",
   "metadata": {},
   "source": [
    "**Note:** the output of the `sample` will have shape `(len(context), n_samples, n_dims)` since it provides `n_samples` for each entry in the context tensor"
   ]
  },
  {
   "cell_type": "code",
   "execution_count": null,
   "metadata": {},
   "outputs": [],
   "source": [
    "n_sample = 1000\n",
    "dist.eval()\n",
    "with torch.no_grad():\n",
    "    samples_0 = np.squeeze(dist.sample(n_sample, context=torch.zeros(1, 1)).numpy())\n",
    "    samples_1 = np.squeeze(dist.sample(n_sample, context=torch.ones(1, 1)).numpy())"
   ]
  },
  {
   "cell_type": "code",
   "execution_count": null,
   "metadata": {},
   "outputs": [],
   "source": [
    "plt.scatter(samples_0[:, 0], samples_0[:, 1])\n",
    "plt.scatter(samples_1[:, 0], samples_1[:, 1])\n",
    "plt.show()"
   ]
  },
  {
   "cell_type": "code",
   "execution_count": null,
   "metadata": {},
   "outputs": [],
   "source": []
  }
 ],
 "metadata": {
  "kernelspec": {
   "display_name": "nessai",
   "language": "python",
   "name": "python3"
  },
  "language_info": {
   "codemirror_mode": {
    "name": "ipython",
    "version": 3
   },
   "file_extension": ".py",
   "mimetype": "text/x-python",
   "name": "python",
   "nbconvert_exporter": "python",
   "pygments_lexer": "ipython3",
   "version": "3.9.13"
  }
 },
 "nbformat": 4,
 "nbformat_minor": 2
}
